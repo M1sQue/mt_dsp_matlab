{
 "cells": [
  {
   "cell_type": "code",
   "execution_count": 1,
   "id": "e563cbd9",
   "metadata": {},
   "outputs": [],
   "source": [
    "import pandas as pd\n",
    "import numpy as np\n",
    "import soundfile as sf\n",
    "from itertools import groupby\n",
    "from operator import itemgetter"
   ]
  },
  {
   "cell_type": "code",
   "execution_count": 2,
   "id": "7c3c31c6",
   "metadata": {},
   "outputs": [],
   "source": [
    "def concatenate_segments(data, segments):\n",
    "    \"\"\"\n",
    "    Concatenate given segments of an audio file.\n",
    "    \n",
    "    Parameters:\n",
    "        data (np.array): The complete audio data array.\n",
    "        segments (list of tuples): Each tuple contains start and end indices of a segment.\n",
    "        \n",
    "    Returns:\n",
    "        np.array: Concatenated data from specified segments.\n",
    "    \"\"\"\n",
    "    concatenated_data = np.concatenate([data[start:end] for start, end in segments])\n",
    "    return concatenated_data"
   ]
  },
  {
   "cell_type": "code",
   "execution_count": 3,
   "id": "aa95574b",
   "metadata": {},
   "outputs": [
    {
     "name": "stdout",
     "output_type": "stream",
     "text": [
      "Job done for set 1\n",
      "Job done for set 2\n"
     ]
    }
   ],
   "source": [
    "df_events = pd.read_excel('Temporary/events_noise_bounds.xlsx')\n",
    "\n",
    "# Process each set and recording\n",
    "for setNr in [1, 2]:\n",
    "    if setNr == 1:\n",
    "        range_end = 18\n",
    "    else:\n",
    "        range_end = 8\n",
    "    \n",
    "    for i in range(1, range_end + 1):\n",
    "        path = f'Temporary/toBeTested/set{setNr}_Recording ({i}).flac'\n",
    "        data, fs = sf.read(path)\n",
    "        \n",
    "        # Extract events for the current recording\n",
    "        recording_name = f'set{setNr}_Recording ({i})'\n",
    "        events = df_events[df_events['filename'] == recording_name]\n",
    "        \n",
    "        # Separate event IDs for data_Y and data_N\n",
    "        event_segments_Y = [(row['start'], row['end']) for index, row in events.iterrows() if row['event_id'] == 2]\n",
    "        event_segments_N = [(row['start'], row['end']) for index, row in events.iterrows() if row['event_id'] == 1]\n",
    "        \n",
    "        # Concatenate event segments for data_Y and noise segments for data_N\n",
    "        data_Y = concatenate_segments(data, event_segments_Y)\n",
    "        data_N = concatenate_segments(data, event_segments_N)\n",
    "        \n",
    "        # Save the concatenated audio data\n",
    "        sf.write(f'Temporary/toBeTested/set{setNr}_Y ({i}).flac', data_Y, fs)\n",
    "        sf.write(f'Temporary/toBeTested/set{setNr}_N ({i}).flac', data_N, fs)\n",
    "\n",
    "    print(f'Job done for set {setNr}')"
   ]
  },
  {
   "cell_type": "code",
   "execution_count": 4,
   "id": "1bdee836",
   "metadata": {},
   "outputs": [
    {
     "name": "stdout",
     "output_type": "stream",
     "text": [
      "Job done for set 1\n",
      "Job done for set 2\n"
     ]
    }
   ],
   "source": [
    "df_events = pd.read_excel('Temporary/events_noise_bounds.xlsx')\n",
    "\n",
    "# Process each set and recording\n",
    "for setNr in [1, 2]:\n",
    "    if setNr == 1:\n",
    "        range_end = 18\n",
    "    else:\n",
    "        range_end = 8\n",
    "    \n",
    "    for i in range(1, range_end + 1):\n",
    "        path = f'Temporary/toBeTested/out_DS/set{setNr}_Recording ({i}).flac'\n",
    "        data, fs = sf.read(path)\n",
    "        \n",
    "        # Extract events for the current recording\n",
    "        recording_name = f'set{setNr}_Recording ({i})'\n",
    "        events = df_events[df_events['filename'] == recording_name]\n",
    "        \n",
    "        # Separate event IDs for data_Y and data_N\n",
    "        event_segments_Y = [(row['start'], row['end']) for index, row in events.iterrows() if row['event_id'] == 2]\n",
    "        event_segments_N = [(row['start'], row['end']) for index, row in events.iterrows() if row['event_id'] == 1]\n",
    "        \n",
    "        # Concatenate event segments for data_Y and noise segments for data_N\n",
    "        data_Y = concatenate_segments(data, event_segments_Y)\n",
    "        data_N = concatenate_segments(data, event_segments_N)\n",
    "        \n",
    "        # Save the concatenated audio data\n",
    "        sf.write(f'Temporary/toBeTested/out_DS/set{setNr}_Y ({i}).flac', data_Y, fs)\n",
    "        sf.write(f'Temporary/toBeTested/out_DS/set{setNr}_N ({i}).flac', data_N, fs)\n",
    "\n",
    "    print(f'Job done for set {setNr}')"
   ]
  },
  {
   "cell_type": "code",
   "execution_count": 5,
   "id": "7716b208",
   "metadata": {},
   "outputs": [
    {
     "name": "stdout",
     "output_type": "stream",
     "text": [
      "Job done for set 1\n",
      "Job done for set 2\n"
     ]
    }
   ],
   "source": [
    "df_events = pd.read_excel('Temporary/events_noise_bounds.xlsx')\n",
    "\n",
    "# Process each set and recording\n",
    "for setNr in [1, 2]:\n",
    "    if setNr == 1:\n",
    "        range_end = 18\n",
    "    else:\n",
    "        range_end = 8\n",
    "    \n",
    "    for i in range(1, range_end + 1):\n",
    "        path = f'Temporary/toBeTested/out_DSC/set{setNr}_Recording ({i}).flac'\n",
    "        data, fs = sf.read(path)\n",
    "        \n",
    "        # Extract events for the current recording\n",
    "        recording_name = f'set{setNr}_Recording ({i})'\n",
    "        events = df_events[df_events['filename'] == recording_name]\n",
    "        \n",
    "        # Separate event IDs for data_Y and data_N\n",
    "        event_segments_Y = [(row['start'], row['end']) for index, row in events.iterrows() if row['event_id'] == 2]\n",
    "        event_segments_N = [(row['start'], row['end']) for index, row in events.iterrows() if row['event_id'] == 1]\n",
    "        \n",
    "        # Concatenate event segments for data_Y and noise segments for data_N\n",
    "        data_Y = concatenate_segments(data, event_segments_Y)\n",
    "        data_N = concatenate_segments(data, event_segments_N)\n",
    "        \n",
    "        # Save the concatenated audio data\n",
    "        sf.write(f'Temporary/toBeTested/out_DSC/set{setNr}_Y ({i}).flac', data_Y, fs)\n",
    "        sf.write(f'Temporary/toBeTested/out_DSC/set{setNr}_N ({i}).flac', data_N, fs)\n",
    "\n",
    "    print(f'Job done for set {setNr}')"
   ]
  },
  {
   "cell_type": "code",
   "execution_count": 6,
   "id": "2d1d2b16",
   "metadata": {},
   "outputs": [
    {
     "name": "stdout",
     "output_type": "stream",
     "text": [
      "Job done for set 1\n",
      "Job done for set 2\n"
     ]
    }
   ],
   "source": [
    "df_events = pd.read_excel('Temporary/events_noise_bounds.xlsx')\n",
    "\n",
    "# Process each set and recording\n",
    "for setNr in [1, 2]:\n",
    "    if setNr == 1:\n",
    "        range_end = 18\n",
    "    else:\n",
    "        range_end = 8\n",
    "    \n",
    "    for i in range(1, range_end + 1):\n",
    "        path = f'Temporary/toBeTested/out_MVDR/set{setNr}_Recording ({i}).flac'\n",
    "        data, fs = sf.read(path)\n",
    "        \n",
    "        # Extract events for the current recording\n",
    "        recording_name = f'set{setNr}_Recording ({i})'\n",
    "        events = df_events[df_events['filename'] == recording_name]\n",
    "        \n",
    "        # Separate event IDs for data_Y and data_N\n",
    "        event_segments_Y = [(row['start'], row['end']) for index, row in events.iterrows() if row['event_id'] == 2]\n",
    "        event_segments_N = [(row['start'], row['end']) for index, row in events.iterrows() if row['event_id'] == 1]\n",
    "        \n",
    "        # Concatenate event segments for data_Y and noise segments for data_N\n",
    "        data_Y = concatenate_segments(data, event_segments_Y)\n",
    "        data_N = concatenate_segments(data, event_segments_N)\n",
    "        \n",
    "        # Save the concatenated audio data\n",
    "        sf.write(f'Temporary/toBeTested/out_MVDR/set{setNr}_Y ({i}).flac', data_Y, fs)\n",
    "        sf.write(f'Temporary/toBeTested/out_MVDR/set{setNr}_N ({i}).flac', data_N, fs)\n",
    "\n",
    "    print(f'Job done for set {setNr}')"
   ]
  },
  {
   "cell_type": "code",
   "execution_count": 11,
   "id": "edd7dcbf",
   "metadata": {},
   "outputs": [
    {
     "name": "stdout",
     "output_type": "stream",
     "text": [
      "Job done for set 1\n",
      "Job done for set 2\n"
     ]
    }
   ],
   "source": [
    "df_events = pd.read_excel('Temporary/events_noise_bounds.xlsx')\n",
    "\n",
    "# Process each set and recording\n",
    "for setNr in [1, 2]:\n",
    "    if setNr == 1:\n",
    "        range_end = 18\n",
    "    else:\n",
    "        range_end = 8\n",
    "    \n",
    "    for i in range(1, range_end + 1):\n",
    "        path = f'Temporary/toBeTested/out_MWF/set{setNr}_Recording ({i}).flac'\n",
    "        data, fs = sf.read(path)\n",
    "        \n",
    "        # Extract events for the current recording\n",
    "        recording_name = f'set{setNr}_Recording ({i})'\n",
    "        events = df_events[df_events['filename'] == recording_name]\n",
    "        \n",
    "        # Separate event IDs for data_Y and data_N\n",
    "        event_segments_Y = [(row['start'], row['end']) for index, row in events.iterrows() if row['event_id'] == 2]\n",
    "        event_segments_N = [(row['start'], row['end']) for index, row in events.iterrows() if row['event_id'] == 1]\n",
    "        \n",
    "        # Concatenate event segments for data_Y and noise segments for data_N\n",
    "        data_Y = concatenate_segments(data, event_segments_Y)\n",
    "        data_N = concatenate_segments(data, event_segments_N)\n",
    "        \n",
    "        # Save the concatenated audio data\n",
    "        sf.write(f'Temporary/toBeTested/out_MWF/set{setNr}_Y ({i}).flac', data_Y, fs)\n",
    "        sf.write(f'Temporary/toBeTested/out_MWF/set{setNr}_N ({i}).flac', data_N, fs)\n",
    "\n",
    "    print(f'Job done for set {setNr}')"
   ]
  }
 ],
 "metadata": {
  "kernelspec": {
   "display_name": "Python 3 (ipykernel)",
   "language": "python",
   "name": "python3"
  },
  "language_info": {
   "codemirror_mode": {
    "name": "ipython",
    "version": 3
   },
   "file_extension": ".py",
   "mimetype": "text/x-python",
   "name": "python",
   "nbconvert_exporter": "python",
   "pygments_lexer": "ipython3",
   "version": "3.11.5"
  }
 },
 "nbformat": 4,
 "nbformat_minor": 5
}
