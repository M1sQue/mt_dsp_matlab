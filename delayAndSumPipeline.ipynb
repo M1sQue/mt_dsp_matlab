{
 "cells": [
  {
   "metadata": {
    "ExecuteTime": {
     "end_time": "2024-05-30T14:02:57.850130Z",
     "start_time": "2024-05-30T14:02:57.846296Z"
    }
   },
   "cell_type": "code",
   "source": [
    "import numpy as np\n",
    "import scipy.io.wavfile as wav\n",
    "import librosa\n",
    "import matplotlib.pyplot as plt\n",
    "from scipy.signal import hann\n",
    "from numpy.fft import fft, ifft"
   ],
   "id": "4aa30cab5a67d11",
   "outputs": [],
   "execution_count": 16
  },
  {
   "metadata": {
    "ExecuteTime": {
     "end_time": "2024-05-30T14:03:40.735433Z",
     "start_time": "2024-05-30T14:03:40.723889Z"
    }
   },
   "cell_type": "code",
   "source": [
    "def calc_istft(X, win, N_STFT, R_STFT, sides):\n",
    "    _, L, M = X.shape\n",
    "    if sides == 'onesided':\n",
    "        X = np.concatenate((X, np.conj(X[-2:0:-1, :, :])), axis=0)\n",
    "    x_frames = ifft(X, axis=0).real\n",
    "\n",
    "    # Apply synthesis window\n",
    "    win = np.tile(win[:, np.newaxis, np.newaxis], (1, L, M))\n",
    "    x_frames = x_frames * win\n",
    "    x_frames = x_frames[:N_STFT, :, :]\n",
    "\n",
    "    # Init output\n",
    "    x = np.zeros((R_STFT * (L - 1) + N_STFT, M))\n",
    "\n",
    "    # OLA processing\n",
    "    for l in range(L):\n",
    "        sampIdx = slice(l * R_STFT, l * R_STFT + N_STFT)\n",
    "        x[sampIdx, :] += x_frames[:, l, :]\n",
    "\n",
    "    return x\n",
    "\n",
    "def calc_stft(x, fs, win, N_STFT, R_STFT, sides):\n",
    "    N_STFT_half = N_STFT // 2 + 1\n",
    "\n",
    "    # Get frequency vector\n",
    "    f = np.linspace(0, fs / 2, N_STFT_half)\n",
    "    if sides == 'twosided':\n",
    "        f = np.concatenate((f, -f[-2:0:-1]))\n",
    "\n",
    "    # Init\n",
    "    L = (len(x) - N_STFT + R_STFT) // R_STFT\n",
    "    M = x.shape[1]\n",
    "    X = np.zeros((N_STFT_half if sides == 'onesided' else N_STFT, L, M), dtype=complex)\n",
    "\n",
    "    for m in range(M):\n",
    "        for l in range(L):\n",
    "            x_frame = x[l * R_STFT:l * R_STFT + N_STFT, m]\n",
    "            X_frame = fft(win * x_frame)\n",
    "            if sides == 'onesided':\n",
    "                X[:, l, m] = X_frame[:N_STFT_half]\n",
    "            else:\n",
    "                X[:, l, m] = X_frame\n",
    "\n",
    "    return X, f\n",
    "\n",
    "def plot_spec(spec, magPowLin, xTickProp, yTickProp, cRange, plotColorbar):\n",
    "    if magPowLin == 'mag':\n",
    "        plt.imshow(20 * np.log10(np.abs(spec)), aspect='auto', vmin=cRange[0], vmax=cRange[1])\n",
    "    elif magPowLin == 'pow':\n",
    "        plt.imshow(10 * np.log10(np.abs(spec)), aspect='auto', vmin=cRange[0], vmax=cRange[1])\n",
    "    elif magPowLin == 'lin':\n",
    "        plt.imshow(spec, aspect='auto', vmin=cRange[0], vmax=cRange[1])\n",
    "    else:\n",
    "        raise ValueError('Undefined scaling option.')\n",
    "\n",
    "    plt.gca().invert_yaxis()\n",
    "    plt.gca().tick_params(length=0)\n",
    "\n",
    "    if plotColorbar:\n",
    "        plt.colorbar()\n",
    "\n",
    "    if xTickProp:\n",
    "        xStartValue, xRes, xTickDist = xTickProp\n",
    "        if xTickDist != 0:\n",
    "            xTicks = np.arange(0, spec.shape[1], xTickDist)\n",
    "            xTickLabels = (xStartValue + xTicks * xRes).astype(int).astype(str)\n",
    "            plt.xticks(xTicks, xTickLabels)\n",
    "        else:\n",
    "            plt.xticks([])\n",
    "    else:\n",
    "        plt.xticks([])\n",
    "\n",
    "    if yTickProp:\n",
    "        yStartValue, yRes, ytickDist = yTickProp\n",
    "        if ytickDist != 0:\n",
    "            yTicks = np.arange(0, spec.shape[0], ytickDist)\n",
    "            yTickLabels = (yStartValue + yTicks * yRes).astype(int).astype(str)\n",
    "            plt.yticks(yTicks, yTickLabels)\n",
    "        else:\n",
    "            plt.yticks([])\n",
    "    else:\n",
    "        plt.yticks([])"
   ],
   "id": "7e4ec191a1dc9e28",
   "outputs": [],
   "execution_count": 17
  },
  {
   "metadata": {
    "ExecuteTime": {
     "end_time": "2024-05-30T13:47:57.814628Z",
     "start_time": "2024-05-30T13:46:42.287471Z"
    }
   },
   "cell_type": "code",
   "source": [
    "# Define constants and initialize variables\n",
    "N_STFT = 2048\n",
    "r = 0.057\n",
    "c = 343.3\n",
    "m_pos = np.array([[r, 0, 0], [r/2, -np.sqrt(3)/2 * r, 0], [-r/2, -np.sqrt(3)/2 * r, 0], [-r, 0, 0], [-r/2, np.sqrt(3)/2 * r, 0], [r/2, np.sqrt(3)/2 * r, 0]]).T\n",
    "azimuth_deg = 0\n",
    "elevation_deg = -90\n",
    "azimuth = np.deg2rad(azimuth_deg)\n",
    "elevation = np.deg2rad(elevation_deg)\n",
    "s_pos = 50 * r * np.array([np.cos(elevation) * np.cos(azimuth), np.cos(elevation) * np.sin(azimuth), np.sin(elevation)])\n",
    "\n",
    "step = 5\n",
    "angles = np.arange(0, 360, step)\n",
    "num_angles = len(angles)\n",
    "ir_data = [None] * num_angles\n",
    "fft_data = [None] * num_angles\n",
    "\n",
    "num_polar_freq = N_STFT // 2 + 1\n",
    "polars = np.zeros((num_polar_freq, num_angles, 6))\n",
    "\n",
    "monName = [\"monCQGLL74L\", \"monG7SMCCBW\", \"monKD8N255G\", \"monGHHX\", \"mon99PJ\"]\n",
    "for channel in range(6):\n",
    "    for k in range(5):\n",
    "        for i in range(num_angles):\n",
    "            filename = f\"AnechoicRoomMeasurements/IRs_Channel_{channel + 1}_Hann/IR_{monName[k]}_{angles[i]}_Channel_{channel + 1}.wav\"\n",
    "            fs, ir_data[i] = wav.read(filename)\n",
    "            N = len(ir_data[i])\n",
    "            N_FFT = 2**int(np.ceil(np.log2(N)))\n",
    "            fft_data[i] = fft(ir_data[i], N_FFT)\n",
    "            Z = fft_data[i]\n",
    "            magnitude = np.abs(Z)\n",
    "            index_deg = (i + int(270 / step)) % int(360 / step)\n",
    "            index_freq = np.linspace(0, N_FFT // 2, num_polar_freq).astype(int)\n",
    "            polars[:, index_deg, channel] += magnitude[index_freq]\n",
    "\n",
    "polars /= 5\n",
    "polars = 20 * np.log10(polars)\n",
    "maxMag = np.max(polars)\n",
    "polars -= maxMag\n",
    "\n",
    "np.savez(\"NpzData/polars.npz\", polars=polars, elevation_deg=elevation_deg, step=step, c=c, m_pos=m_pos, s_pos=s_pos, fs=fs)\n",
    "print(\"Job done\")"
   ],
   "id": "94d72b52474b6764",
   "outputs": [
    {
     "name": "stdout",
     "output_type": "stream",
     "text": [
      "Job done\n"
     ]
    }
   ],
   "execution_count": 3
  },
  {
   "metadata": {
    "ExecuteTime": {
     "end_time": "2024-05-30T14:03:49.060922Z",
     "start_time": "2024-05-30T14:03:45.125973Z"
    }
   },
   "cell_type": "code",
   "source": [
    "# Load the polars data and perform beamforming\n",
    "data = np.load(\"NpzData/polars.npz\")\n",
    "polars = data['polars']\n",
    "elevation_deg = data['elevation_deg']\n",
    "step = data['step']\n",
    "c = data['c']\n",
    "m_pos = data['m_pos']\n",
    "s_pos = data['s_pos']\n",
    "fs = data['fs']\n",
    "\n",
    "N_STFT = 2048\n",
    "R_STFT = N_STFT // 2\n",
    "win = np.sqrt(hann(N_STFT))\n",
    "\n",
    "compen_width_deg = 40\n",
    "compen_index = np.mod(np.arange(elevation_deg - compen_width_deg / 2, elevation_deg + compen_width_deg / 2 + step, step) + 360, 360) / step\n",
    "A_compen = -np.mean(polars[:, compen_index.astype(int), :], axis=1)\n",
    "\n",
    "# Adjust the shape of A_compen to match the shape of polars\n",
    "n_low_freq_bins = int(200 * N_STFT / fs)\n",
    "A_compen[:n_low_freq_bins, :] = 1\n",
    "A_compen = 10**(A_compen / 20)\n",
    "\n",
    "# Input data time domain\n",
    "for setNr in range(1, 3):\n",
    "    totalFileNr = 18 if setNr == 1 else 8\n",
    "    for fileNr in range(1, totalFileNr + 1):\n",
    "        input_t, fs_input = librosa.load(f\"Temporary/toBeTested/set{setNr}_Recording ({fileNr}).flac\", sr=None, mono=False)\n",
    "        input_t = input_t.T  # Ensure the shape is (samples, channels)\n",
    "        input_stft, _ = calc_stft(input_t, fs_input, win, N_STFT, R_STFT, 'onesided')\n",
    "        xTickProp = [0, R_STFT / fs_input, 0]\n",
    "        yTickProp = [0, fs_input / (2000 * R_STFT), R_STFT // 2]\n",
    "        cRange = [-45, 15]\n",
    "\n",
    "        fig_in = plt.figure()\n",
    "        iterations = input_stft.shape[2]\n",
    "        for i in range(iterations):\n",
    "            plt.subplot(iterations, 1, i + 1)\n",
    "            plot_spec(input_stft[:, :, i], 'mag', xTickProp, yTickProp, cRange, 0)\n",
    "            plt.ylabel('Freq (kHz)')\n",
    "        plt.xlabel(\"Time\")\n",
    "        plt.show()\n",
    "\n",
    "        # Initialize the output\n",
    "        output_stft = np.zeros((input_stft.shape[0], input_stft.shape[1], 1), dtype=complex)\n",
    "\n",
    "        # Pipeline\n",
    "        n_freq_bins = input_stft.shape[0]\n",
    "\n",
    "        # Calculate coefficients then apply\n",
    "        for i in range(n_freq_bins):\n",
    "            dasb_delay = np.dot(s_pos, m_pos) / np.linalg.norm(s_pos) / c\n",
    "            d_dasb = np.exp(-1j * 2 * np.pi * (fs_input / N_STFT * i) * dasb_delay) / m_pos.shape[1]\n",
    "            w_dasb = d_dasb.T\n",
    "            w_dasb /= m_pos.shape[1]\n",
    "            output_stft[i, :, 0] = np.dot(input_stft[i, :, :], w_dasb)\n",
    "\n",
    "        fig_out = plt.figure()\n",
    "        plot_spec(output_stft[:, :, 0], 'mag', xTickProp, yTickProp, cRange, 0)\n",
    "        plt.ylabel('Freq (kHz)')\n",
    "        plt.xlabel(\"Time\")\n",
    "        plt.show()\n",
    "\n",
    "        output_t = calc_istft(output_stft, win, N_STFT, R_STFT, 'onesided')\n",
    "        # sf.write(f\"Temporary/toBeTested/out_DS/set{setNr}_Recording ({fileNr}).flac\", output_t, fs_input)\n",
    "\n",
    "        # fig_in.savefig(f\"Temporary/figures/set{setNr}_Recording ({fileNr}).pdf\")\n",
    "        # fig_out.savefig(f\"Temporary/figures/out_DS/set{setNr}_Recording ({fileNr}).pdf\")\n",
    "        print(\"Job done!\")\n"
   ],
   "id": "56414ae7b1c363bc",
   "outputs": [
    {
     "name": "stderr",
     "output_type": "stream",
     "text": [
      "/tmp/ipykernel_19683/720347963.py:13: DeprecationWarning: Importing hann from 'scipy.signal' is deprecated and will raise an error in SciPy 1.13.0. Please use 'scipy.signal.windows.hann' or the convenience function 'scipy.signal.get_window' instead.\n",
      "  win = np.sqrt(hann(N_STFT))\n"
     ]
    },
    {
     "ename": "TypeError",
     "evalue": "unsupported operand type(s) for /: 'float' and 'NoneType'",
     "output_type": "error",
     "traceback": [
      "\u001B[0;31m---------------------------------------------------------------------------\u001B[0m",
      "\u001B[0;31mTypeError\u001B[0m                                 Traceback (most recent call last)",
      "Cell \u001B[0;32mIn[18], line 39\u001B[0m\n\u001B[1;32m     37\u001B[0m \u001B[38;5;28;01mfor\u001B[39;00m i \u001B[38;5;129;01min\u001B[39;00m \u001B[38;5;28mrange\u001B[39m(iterations):\n\u001B[1;32m     38\u001B[0m     plt\u001B[38;5;241m.\u001B[39msubplot(iterations, \u001B[38;5;241m1\u001B[39m, i \u001B[38;5;241m+\u001B[39m \u001B[38;5;241m1\u001B[39m)\n\u001B[0;32m---> 39\u001B[0m     plot_spec(input_stft[:, :, i], \u001B[38;5;124m'\u001B[39m\u001B[38;5;124mmag\u001B[39m\u001B[38;5;124m'\u001B[39m, xTickProp, yTickProp, cRange, \u001B[38;5;241m0\u001B[39m)\n\u001B[1;32m     40\u001B[0m     plt\u001B[38;5;241m.\u001B[39mylabel(\u001B[38;5;124m'\u001B[39m\u001B[38;5;124mFreq (kHz)\u001B[39m\u001B[38;5;124m'\u001B[39m)\n\u001B[1;32m     41\u001B[0m plt\u001B[38;5;241m.\u001B[39mxlabel(\u001B[38;5;124m\"\u001B[39m\u001B[38;5;124mTime\u001B[39m\u001B[38;5;124m\"\u001B[39m)\n",
      "Cell \u001B[0;32mIn[17], line 51\u001B[0m, in \u001B[0;36mplot_spec\u001B[0;34m(spec, magPowLin, xTickProp, yTickProp, cRange, plotColorbar)\u001B[0m\n\u001B[1;32m     49\u001B[0m \u001B[38;5;28;01mif\u001B[39;00m magPowLin \u001B[38;5;241m==\u001B[39m \u001B[38;5;124m'\u001B[39m\u001B[38;5;124mmag\u001B[39m\u001B[38;5;124m'\u001B[39m:\n\u001B[1;32m     50\u001B[0m     spec_db \u001B[38;5;241m=\u001B[39m \u001B[38;5;241m20\u001B[39m \u001B[38;5;241m*\u001B[39m np\u001B[38;5;241m.\u001B[39mlog10(np\u001B[38;5;241m.\u001B[39mabs(spec) \u001B[38;5;241m+\u001B[39m \u001B[38;5;241m1e-10\u001B[39m)  \u001B[38;5;66;03m# Adding small value to avoid log(0)\u001B[39;00m\n\u001B[0;32m---> 51\u001B[0m     img \u001B[38;5;241m=\u001B[39m librosa\u001B[38;5;241m.\u001B[39mdisplay\u001B[38;5;241m.\u001B[39mspecshow(spec_db, sr\u001B[38;5;241m=\u001B[39m\u001B[38;5;28;01mNone\u001B[39;00m, x_axis\u001B[38;5;241m=\u001B[39m\u001B[38;5;124m'\u001B[39m\u001B[38;5;124mtime\u001B[39m\u001B[38;5;124m'\u001B[39m, y_axis\u001B[38;5;241m=\u001B[39m\u001B[38;5;124m'\u001B[39m\u001B[38;5;124mlog\u001B[39m\u001B[38;5;124m'\u001B[39m, cmap\u001B[38;5;241m=\u001B[39m\u001B[38;5;124m'\u001B[39m\u001B[38;5;124mmagma\u001B[39m\u001B[38;5;124m'\u001B[39m)\n\u001B[1;32m     52\u001B[0m \u001B[38;5;28;01melif\u001B[39;00m magPowLin \u001B[38;5;241m==\u001B[39m \u001B[38;5;124m'\u001B[39m\u001B[38;5;124mpow\u001B[39m\u001B[38;5;124m'\u001B[39m:\n\u001B[1;32m     53\u001B[0m     spec_db \u001B[38;5;241m=\u001B[39m \u001B[38;5;241m10\u001B[39m \u001B[38;5;241m*\u001B[39m np\u001B[38;5;241m.\u001B[39mlog10(np\u001B[38;5;241m.\u001B[39mabs(spec) \u001B[38;5;241m+\u001B[39m \u001B[38;5;241m1e-10\u001B[39m)\n",
      "File \u001B[0;32m~/anaconda3/lib/python3.11/site-packages/librosa/display.py:1203\u001B[0m, in \u001B[0;36mspecshow\u001B[0;34m(data, x_coords, y_coords, x_axis, y_axis, sr, hop_length, n_fft, win_length, fmin, fmax, tuning, bins_per_octave, key, Sa, mela, thaat, auto_aspect, htk, unicode, intervals, unison, ax, **kwargs)\u001B[0m\n\u001B[1;32m   1185\u001B[0m all_params \u001B[38;5;241m=\u001B[39m \u001B[38;5;28mdict\u001B[39m(\n\u001B[1;32m   1186\u001B[0m     kwargs\u001B[38;5;241m=\u001B[39mkwargs,\n\u001B[1;32m   1187\u001B[0m     sr\u001B[38;5;241m=\u001B[39msr,\n\u001B[0;32m   (...)\u001B[0m\n\u001B[1;32m   1199\u001B[0m     unison\u001B[38;5;241m=\u001B[39munison,\n\u001B[1;32m   1200\u001B[0m )\n\u001B[1;32m   1202\u001B[0m \u001B[38;5;66;03m# Get the x and y coordinates\u001B[39;00m\n\u001B[0;32m-> 1203\u001B[0m y_coords \u001B[38;5;241m=\u001B[39m __mesh_coords(y_axis, y_coords, data\u001B[38;5;241m.\u001B[39mshape[\u001B[38;5;241m0\u001B[39m], \u001B[38;5;241m*\u001B[39m\u001B[38;5;241m*\u001B[39mall_params)\n\u001B[1;32m   1204\u001B[0m x_coords \u001B[38;5;241m=\u001B[39m __mesh_coords(x_axis, x_coords, data\u001B[38;5;241m.\u001B[39mshape[\u001B[38;5;241m1\u001B[39m], \u001B[38;5;241m*\u001B[39m\u001B[38;5;241m*\u001B[39mall_params)\n\u001B[1;32m   1206\u001B[0m axes \u001B[38;5;241m=\u001B[39m __check_axes(ax)\n",
      "File \u001B[0;32m~/anaconda3/lib/python3.11/site-packages/librosa/display.py:1312\u001B[0m, in \u001B[0;36m__mesh_coords\u001B[0;34m(ax_type, coords, n, **kwargs)\u001B[0m\n\u001B[1;32m   1310\u001B[0m \u001B[38;5;28;01mif\u001B[39;00m ax_type \u001B[38;5;129;01mnot\u001B[39;00m \u001B[38;5;129;01min\u001B[39;00m coord_map:\n\u001B[1;32m   1311\u001B[0m     \u001B[38;5;28;01mraise\u001B[39;00m ParameterError(\u001B[38;5;124mf\u001B[39m\u001B[38;5;124m\"\u001B[39m\u001B[38;5;124mUnknown axis type: \u001B[39m\u001B[38;5;132;01m{\u001B[39;00max_type\u001B[38;5;132;01m}\u001B[39;00m\u001B[38;5;124m\"\u001B[39m)\n\u001B[0;32m-> 1312\u001B[0m \u001B[38;5;28;01mreturn\u001B[39;00m coord_map[ax_type](n, \u001B[38;5;241m*\u001B[39m\u001B[38;5;241m*\u001B[39mkwargs)\n",
      "File \u001B[0;32m~/anaconda3/lib/python3.11/site-packages/librosa/display.py:1693\u001B[0m, in \u001B[0;36m__coord_fft_hz\u001B[0;34m(n, sr, n_fft, **_kwargs)\u001B[0m\n\u001B[1;32m   1690\u001B[0m     n_fft \u001B[38;5;241m=\u001B[39m \u001B[38;5;241m2\u001B[39m \u001B[38;5;241m*\u001B[39m (n \u001B[38;5;241m-\u001B[39m \u001B[38;5;241m1\u001B[39m)\n\u001B[1;32m   1691\u001B[0m \u001B[38;5;66;03m# The following code centers the FFT bins at their frequencies\u001B[39;00m\n\u001B[1;32m   1692\u001B[0m \u001B[38;5;66;03m# and clips to the non-negative frequency range [0, nyquist]\u001B[39;00m\n\u001B[0;32m-> 1693\u001B[0m basis \u001B[38;5;241m=\u001B[39m core\u001B[38;5;241m.\u001B[39mfft_frequencies(sr\u001B[38;5;241m=\u001B[39msr, n_fft\u001B[38;5;241m=\u001B[39mn_fft)\n\u001B[1;32m   1694\u001B[0m \u001B[38;5;28;01mreturn\u001B[39;00m basis\n",
      "File \u001B[0;32m~/anaconda3/lib/python3.11/site-packages/librosa/core/convert.py:1608\u001B[0m, in \u001B[0;36mfft_frequencies\u001B[0;34m(sr, n_fft)\u001B[0m\n\u001B[1;32m   1587\u001B[0m \u001B[38;5;28;01mdef\u001B[39;00m \u001B[38;5;21mfft_frequencies\u001B[39m(\u001B[38;5;241m*\u001B[39m, sr: \u001B[38;5;28mfloat\u001B[39m \u001B[38;5;241m=\u001B[39m \u001B[38;5;241m22050\u001B[39m, n_fft: \u001B[38;5;28mint\u001B[39m \u001B[38;5;241m=\u001B[39m \u001B[38;5;241m2048\u001B[39m) \u001B[38;5;241m-\u001B[39m\u001B[38;5;241m>\u001B[39m np\u001B[38;5;241m.\u001B[39mndarray:\n\u001B[1;32m   1588\u001B[0m \u001B[38;5;250m    \u001B[39m\u001B[38;5;124;03m\"\"\"Alternative implementation of `np.fft.fftfreq`\u001B[39;00m\n\u001B[1;32m   1589\u001B[0m \n\u001B[1;32m   1590\u001B[0m \u001B[38;5;124;03m    Parameters\u001B[39;00m\n\u001B[0;32m   (...)\u001B[0m\n\u001B[1;32m   1606\u001B[0m \u001B[38;5;124;03m             5512.5  ,   6890.625,   8268.75 ,   9646.875,  11025.   ])\u001B[39;00m\n\u001B[1;32m   1607\u001B[0m \u001B[38;5;124;03m    \"\"\"\u001B[39;00m\n\u001B[0;32m-> 1608\u001B[0m     \u001B[38;5;28;01mreturn\u001B[39;00m np\u001B[38;5;241m.\u001B[39mfft\u001B[38;5;241m.\u001B[39mrfftfreq(n\u001B[38;5;241m=\u001B[39mn_fft, d\u001B[38;5;241m=\u001B[39m\u001B[38;5;241m1.0\u001B[39m \u001B[38;5;241m/\u001B[39m sr)\n",
      "\u001B[0;31mTypeError\u001B[0m: unsupported operand type(s) for /: 'float' and 'NoneType'"
     ]
    },
    {
     "data": {
      "text/plain": [
       "<Figure size 640x480 with 1 Axes>"
      ],
      "image/png": "[encoded data removed]"
     },
     "metadata": {},
     "output_type": "display_data"
    },
    {
     "data": {
      "text/plain": [
       "<Figure size 1000x600 with 0 Axes>"
      ]
     },
     "metadata": {},
     "output_type": "display_data"
    }
   ],
   "execution_count": 18
  }
 ],
 "metadata": {
  "kernelspec": {
   "display_name": "Python 3",
   "language": "python",
   "name": "python3"
  },
  "language_info": {
   "codemirror_mode": {
    "name": "ipython",
    "version": 2
   },
   "file_extension": ".py",
   "mimetype": "text/x-python",
   "name": "python",
   "nbconvert_exporter": "python",
   "pygments_lexer": "ipython2",
   "version": "2.7.6"
  }
 },
 "nbformat": 4,
 "nbformat_minor": 5
}
